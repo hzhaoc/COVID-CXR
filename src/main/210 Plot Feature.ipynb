{
 "cells": [
  {
   "cell_type": "code",
   "execution_count": null,
   "metadata": {
    "scrolled": false
   },
   "outputs": [],
   "source": [
    "%matplotlib inline\n",
    "from src.plot_feature import *\n",
    "\n",
    "\n",
    "plot = plot_features_from_random_example\n",
    "print(plot.__doc__)\n",
    "plot(example_num=params['visual']['feature']['example_num'],\n",
    "     model_tool=params['model']['tool'], \n",
    "     model_name=params['model']['name'], \n",
    "     save_path=DIAG_PATH,\n",
    "     img_size_inch=params['visual']['feature']['img_size_inch'],\n",
    "     architect=params['model']['architect'],\n",
    "     in_channel=params['model']['torch']['in_channel'],\n",
    "     img_size=params['etl']['image_size']\n",
    ")"
   ]
  }
 ],
 "metadata": {
  "kernelspec": {
   "display_name": "Python 3",
   "language": "python",
   "name": "python3"
  },
  "language_info": {
   "codemirror_mode": {
    "name": "ipython",
    "version": 3
   },
   "file_extension": ".py",
   "mimetype": "text/x-python",
   "name": "python",
   "nbconvert_exporter": "python",
   "pygments_lexer": "ipython3",
   "version": "3.8.3"
  }
 },
 "nbformat": 4,
 "nbformat_minor": 2
}
