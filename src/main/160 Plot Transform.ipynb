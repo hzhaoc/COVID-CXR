{
 "cells": [
  {
   "cell_type": "code",
   "execution_count": null,
   "metadata": {
    "scrolled": false
   },
   "outputs": [],
   "source": [
    "%matplotlib inline\n",
    "from src.plot_transform import *\n",
    "\n",
    "\n",
    "plot = plot_example_transforms\n",
    "print(plot.__doc__)\n",
    "plot(example_num=params['visual']['transform']['example_num'],\n",
    "     save_path=DIAG_PATH,\n",
    "     size=params['visual']['transform']['img_size_inch'],\n",
    "     use_seg=params['etl']['use_segmentation']\n",
    ")"
   ]
  }
 ],
 "metadata": {
  "kernelspec": {
   "display_name": "Python 3",
   "language": "python",
   "name": "python3"
  },
  "language_info": {
   "codemirror_mode": {
    "name": "ipython",
    "version": 3
   },
   "file_extension": ".py",
   "mimetype": "text/x-python",
   "name": "python",
   "nbconvert_exporter": "python",
   "pygments_lexer": "ipython3",
   "version": "3.6.12"
  }
 },
 "nbformat": 4,
 "nbformat_minor": 2
}
