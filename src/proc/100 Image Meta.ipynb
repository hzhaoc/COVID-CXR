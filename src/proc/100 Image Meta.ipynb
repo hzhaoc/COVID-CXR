{
 "cells": [
  {
   "cell_type": "markdown",
   "metadata": {},
   "source": [
    "## meta"
   ]
  },
  {
   "cell_type": "code",
   "execution_count": 1,
   "metadata": {},
   "outputs": [],
   "source": [
    "from src.etl import *"
   ]
  },
  {
   "cell_type": "code",
   "execution_count": 4,
   "metadata": {},
   "outputs": [
    {
     "name": "stdout",
     "output_type": "stream",
     "text": [
      "imgae size:  480\n"
     ]
    }
   ],
   "source": [
    "print('imgae size: ', params['etl']['image_size'])"
   ]
  },
  {
   "cell_type": "code",
   "execution_count": 5,
   "metadata": {},
   "outputs": [],
   "source": [
    "if params['etl']['use_spark']:\n",
    "    from src.etl_spark import *\n",
    "    META = spark_etl()\n",
    "else:\n",
    "    META = etl()"
   ]
  },
  {
   "cell_type": "code",
   "execution_count": 6,
   "metadata": {},
   "outputs": [
    {
     "name": "stdout",
     "output_type": "stream",
     "text": [
      "label distribution: \n",
      "Counter({'pneumonia': 11092, 'normal': 10340, 'covid': 617})\n"
     ]
    }
   ],
   "source": [
    "print('label distribution: ', Counter(META.label), sep='\\n')"
   ]
  },
  {
   "cell_type": "markdown",
   "metadata": {},
   "source": [
    "## train / test split"
   ]
  },
  {
   "cell_type": "code",
   "execution_count": 7,
   "metadata": {},
   "outputs": [
    {
     "data": {
      "text/html": [
       "<div>\n",
       "<style scoped>\n",
       "    .dataframe tbody tr th:only-of-type {\n",
       "        vertical-align: middle;\n",
       "    }\n",
       "\n",
       "    .dataframe tbody tr th {\n",
       "        vertical-align: top;\n",
       "    }\n",
       "\n",
       "    .dataframe thead th {\n",
       "        text-align: right;\n",
       "    }\n",
       "</style>\n",
       "<table border=\"1\" class=\"dataframe\">\n",
       "  <thead>\n",
       "    <tr style=\"text-align: right;\">\n",
       "      <th></th>\n",
       "      <th>imgid</th>\n",
       "      <th>patient</th>\n",
       "      <th>img</th>\n",
       "      <th>label</th>\n",
       "      <th>src</th>\n",
       "      <th>train</th>\n",
       "    </tr>\n",
       "  </thead>\n",
       "  <tbody>\n",
       "    <tr>\n",
       "      <th>0</th>\n",
       "      <td>./data/train\\covid\\0.jpeg</td>\n",
       "      <td>2</td>\n",
       "      <td>./data/source/covid-chestxray-dataset-master/i...</td>\n",
       "      <td>0</td>\n",
       "      <td>0</td>\n",
       "      <td>1</td>\n",
       "    </tr>\n",
       "    <tr>\n",
       "      <th>1</th>\n",
       "      <td>./data/train\\covid\\1.jpeg</td>\n",
       "      <td>2</td>\n",
       "      <td>./data/source/covid-chestxray-dataset-master/i...</td>\n",
       "      <td>0</td>\n",
       "      <td>0</td>\n",
       "      <td>1</td>\n",
       "    </tr>\n",
       "    <tr>\n",
       "      <th>2</th>\n",
       "      <td>./data/train\\covid\\2.jpeg</td>\n",
       "      <td>2</td>\n",
       "      <td>./data/source/covid-chestxray-dataset-master/i...</td>\n",
       "      <td>0</td>\n",
       "      <td>0</td>\n",
       "      <td>1</td>\n",
       "    </tr>\n",
       "    <tr>\n",
       "      <th>3</th>\n",
       "      <td>./data/train\\covid\\3.jpeg</td>\n",
       "      <td>2</td>\n",
       "      <td>./data/source/covid-chestxray-dataset-master/i...</td>\n",
       "      <td>0</td>\n",
       "      <td>0</td>\n",
       "      <td>1</td>\n",
       "    </tr>\n",
       "    <tr>\n",
       "      <th>4</th>\n",
       "      <td>./data/train\\covid\\4.jpeg</td>\n",
       "      <td>4</td>\n",
       "      <td>./data/source/covid-chestxray-dataset-master/i...</td>\n",
       "      <td>0</td>\n",
       "      <td>0</td>\n",
       "      <td>1</td>\n",
       "    </tr>\n",
       "  </tbody>\n",
       "</table>\n",
       "</div>"
      ],
      "text/plain": [
       "                       imgid patient  \\\n",
       "0  ./data/train\\covid\\0.jpeg       2   \n",
       "1  ./data/train\\covid\\1.jpeg       2   \n",
       "2  ./data/train\\covid\\2.jpeg       2   \n",
       "3  ./data/train\\covid\\3.jpeg       2   \n",
       "4  ./data/train\\covid\\4.jpeg       4   \n",
       "\n",
       "                                                 img  label  src  train  \n",
       "0  ./data/source/covid-chestxray-dataset-master/i...      0    0      1  \n",
       "1  ./data/source/covid-chestxray-dataset-master/i...      0    0      1  \n",
       "2  ./data/source/covid-chestxray-dataset-master/i...      0    0      1  \n",
       "3  ./data/source/covid-chestxray-dataset-master/i...      0    0      1  \n",
       "4  ./data/source/covid-chestxray-dataset-master/i...      0    0      1  "
      ]
     },
     "execution_count": 7,
     "metadata": {},
     "output_type": "execute_result"
    }
   ],
   "source": [
    "META = dataset_split(META)\n",
    "META.head()"
   ]
  },
  {
   "cell_type": "code",
   "execution_count": 8,
   "metadata": {},
   "outputs": [
    {
     "name": "stdout",
     "output_type": "stream",
     "text": [
      "label integer map: \n",
      "{'covid': 0, 'normal': 1, 'pneumonia': 2}\n",
      "\n",
      "test data from covid datasets: \n",
      "Counter({2: 2219, 1: 2068, 0: 124})\n",
      "\n",
      "train data from covid datasets: \n",
      "Counter({2: 8873, 1: 8272, 0: 493})\n",
      "\n"
     ]
    }
   ],
   "source": [
    "print('label integer map: ', labelmap, sep='\\n', end='\\n\\n')\n",
    "for ds in (0, 1):\n",
    "    print('{0} data from covid datasets: '.format({0: 'test', 1: 'train'}[ds]), Counter(META[META.train==ds].label), sep='\\n', end='\\n\\n')"
   ]
  },
  {
   "cell_type": "code",
   "execution_count": 9,
   "metadata": {},
   "outputs": [
    {
     "name": "stdout",
     "output_type": "stream",
     "text": [
      "META data saved at ./data/meta\n"
     ]
    }
   ],
   "source": [
    "# cache image meta\n",
    "if not os.path.isdir(SAVE_PATH):\n",
    "    os.makedirs(SAVE_PATH)\n",
    "with open(os.path.join(SAVE_PATH, 'meta'), 'wb') as pickle_file:\n",
    "    pickle.dump(META, pickle_file, pickle.HIGHEST_PROTOCOL)\n",
    "    print(f\"META data saved at {os.path.join(SAVE_PATH, 'meta')}\")"
   ]
  }
 ],
 "metadata": {
  "kernelspec": {
   "display_name": "Python 3",
   "language": "python",
   "name": "python3"
  },
  "language_info": {
   "codemirror_mode": {
    "name": "ipython",
    "version": 3
   },
   "file_extension": ".py",
   "mimetype": "text/x-python",
   "name": "python",
   "nbconvert_exporter": "python",
   "pygments_lexer": "ipython3",
   "version": "3.8.3"
  }
 },
 "nbformat": 4,
 "nbformat_minor": 2
}
