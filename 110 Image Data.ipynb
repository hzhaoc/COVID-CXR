{
 "cells": [
  {
   "cell_type": "markdown",
   "metadata": {},
   "source": [
    "## Preprocess Image Data"
   ]
  },
  {
   "cell_type": "code",
   "execution_count": 1,
   "metadata": {},
   "outputs": [],
   "source": [
    "from src.etl import *\n",
    "meta = pickle.load(open(os.path.join(SAVE_PATH,  'meta'), 'rb'))"
   ]
  },
  {
   "cell_type": "code",
   "execution_count": 3,
   "metadata": {},
   "outputs": [
    {
     "name": "stdout",
     "output_type": "stream",
     "text": [
      "\n",
      "    preprocess and save source images into pipeline\n",
      "    \n",
      "segmentation set to True\n",
      "ImgPreprocessor()\n",
      "    process an image in array to desired form\n",
      "    -> (adaptive) histogram equlization\n",
      "    -> crop top\n",
      "    -> crop center\n",
      "    -> resize\n",
      "    -> [optional] segmentation\n",
      "    ---------------\n",
      "    @param\n",
      "    :CLAHE: boolean; use adaptive or global histogram equalizaiton\n",
      "    :crop_top: float; percent to crop on top\n",
      "    :size: int; resize\n",
      "    :(optional) clipLimit: float; contrast limiting in CLAHE\n",
      "    :(optional) tileGridSize: tuple of float; tile size in CLAHE  \n",
      "    ---------------\n",
      "    \n",
      "doneress: 100.00%\n",
      "Wall time: 34min 56s\n"
     ]
    }
   ],
   "source": [
    "%%time\n",
    "print('\\n', preprocess.__doc__)\n",
    "preprocess(meta)"
   ]
  },
  {
   "cell_type": "code",
   "execution_count": 4,
   "metadata": {},
   "outputs": [
    {
     "name": "stdout",
     "output_type": "stream",
     "text": [
      "2792 (480, 480, 3)\n",
      "16644 (480, 480, 3)\n",
      "11773 (480, 480, 3)\n",
      "20889 (480, 480, 3)\n",
      "17077 (480, 480, 3)\n",
      "8147 (480, 480, 3)\n",
      "17473 (480, 480, 3)\n",
      "17407 (480, 480, 3)\n",
      "16584 (480, 480, 3)\n",
      "17344 (480, 480, 3)\n"
     ]
    }
   ],
   "source": [
    "# sanity check for image shape, they need to consistent with model input\n",
    "for i in np.random.choice(meta.index, 10):\n",
    "    print(i, cv2.imread(meta.loc[i, 'imgid']).shape)"
   ]
  }
 ],
 "metadata": {
  "kernelspec": {
   "display_name": "Python 3",
   "language": "python",
   "name": "python3"
  },
  "language_info": {
   "codemirror_mode": {
    "name": "ipython",
    "version": 3
   },
   "file_extension": ".py",
   "mimetype": "text/x-python",
   "name": "python",
   "nbconvert_exporter": "python",
   "pygments_lexer": "ipython3",
   "version": "3.6.12"
  }
 },
 "nbformat": 4,
 "nbformat_minor": 2
}
