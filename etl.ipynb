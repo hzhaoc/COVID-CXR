{
 "cells": [
  {
   "cell_type": "markdown",
   "metadata": {},
   "source": [
    "## meta"
   ]
  },
  {
   "cell_type": "code",
   "execution_count": 1,
   "metadata": {},
   "outputs": [],
   "source": [
    "from src.etl import *\n",
    "from src.utils import *\n",
    "import yaml\n",
    "from collections import Counter\n",
    "from collections import defaultdict"
   ]
  },
  {
   "cell_type": "code",
   "execution_count": 2,
   "metadata": {},
   "outputs": [
    {
     "data": {
      "text/plain": [
       "224"
      ]
     },
     "execution_count": 2,
     "metadata": {},
     "output_type": "execute_result"
    }
   ],
   "source": [
    "params['data']['image_size']"
   ]
  },
  {
   "cell_type": "code",
   "execution_count": 3,
   "metadata": {},
   "outputs": [
    {
     "name": "stdout",
     "output_type": "stream",
     "text": [
      "etl: META from src 0.. \n",
      "etl: META from src 1.. \n",
      "etl: META from src 2.. \n",
      "etl: META from src 3.. \n",
      "etl: META from src 4.. \n",
      "done!\n"
     ]
    }
   ],
   "source": [
    "META = etl()"
   ]
  },
  {
   "cell_type": "code",
   "execution_count": 4,
   "metadata": {},
   "outputs": [
    {
     "data": {
      "text/html": [
       "<div>\n",
       "<style scoped>\n",
       "    .dataframe tbody tr th:only-of-type {\n",
       "        vertical-align: middle;\n",
       "    }\n",
       "\n",
       "    .dataframe tbody tr th {\n",
       "        vertical-align: top;\n",
       "    }\n",
       "\n",
       "    .dataframe thead th {\n",
       "        text-align: right;\n",
       "    }\n",
       "</style>\n",
       "<table border=\"1\" class=\"dataframe\">\n",
       "  <thead>\n",
       "    <tr style=\"text-align: right;\">\n",
       "      <th></th>\n",
       "      <th>patient</th>\n",
       "      <th>img</th>\n",
       "      <th>label</th>\n",
       "      <th>src</th>\n",
       "      <th>Unnamed: 0</th>\n",
       "    </tr>\n",
       "  </thead>\n",
       "  <tbody>\n",
       "    <tr>\n",
       "      <th>0</th>\n",
       "      <td>2</td>\n",
       "      <td>./data/source/covid-chestxray-dataset-master/i...</td>\n",
       "      <td>covid</td>\n",
       "      <td>0</td>\n",
       "      <td>NaN</td>\n",
       "    </tr>\n",
       "    <tr>\n",
       "      <th>1</th>\n",
       "      <td>2</td>\n",
       "      <td>./data/source/covid-chestxray-dataset-master/i...</td>\n",
       "      <td>covid</td>\n",
       "      <td>0</td>\n",
       "      <td>NaN</td>\n",
       "    </tr>\n",
       "    <tr>\n",
       "      <th>2</th>\n",
       "      <td>2</td>\n",
       "      <td>./data/source/covid-chestxray-dataset-master/i...</td>\n",
       "      <td>covid</td>\n",
       "      <td>0</td>\n",
       "      <td>NaN</td>\n",
       "    </tr>\n",
       "    <tr>\n",
       "      <th>3</th>\n",
       "      <td>2</td>\n",
       "      <td>./data/source/covid-chestxray-dataset-master/i...</td>\n",
       "      <td>covid</td>\n",
       "      <td>0</td>\n",
       "      <td>NaN</td>\n",
       "    </tr>\n",
       "    <tr>\n",
       "      <th>4</th>\n",
       "      <td>4</td>\n",
       "      <td>./data/source/covid-chestxray-dataset-master/i...</td>\n",
       "      <td>covid</td>\n",
       "      <td>0</td>\n",
       "      <td>NaN</td>\n",
       "    </tr>\n",
       "    <tr>\n",
       "      <th>...</th>\n",
       "      <td>...</td>\n",
       "      <td>...</td>\n",
       "      <td>...</td>\n",
       "      <td>...</td>\n",
       "      <td>...</td>\n",
       "    </tr>\n",
       "    <tr>\n",
       "      <th>22044</th>\n",
       "      <td>c1ec14ff-f6d7-4b38-b0cb-fe07041cbdc8</td>\n",
       "      <td>./data/source/rsna-pneumonia-detection-challen...</td>\n",
       "      <td>pneumonia</td>\n",
       "      <td>4</td>\n",
       "      <td>NaN</td>\n",
       "    </tr>\n",
       "    <tr>\n",
       "      <th>22045</th>\n",
       "      <td>c1edf42b-5958-47ff-a1e7-4f23d99583ba</td>\n",
       "      <td>./data/source/rsna-pneumonia-detection-challen...</td>\n",
       "      <td>normal</td>\n",
       "      <td>4</td>\n",
       "      <td>NaN</td>\n",
       "    </tr>\n",
       "    <tr>\n",
       "      <th>22046</th>\n",
       "      <td>c1f6b555-2eb1-4231-98f6-50a963976431</td>\n",
       "      <td>./data/source/rsna-pneumonia-detection-challen...</td>\n",
       "      <td>normal</td>\n",
       "      <td>4</td>\n",
       "      <td>NaN</td>\n",
       "    </tr>\n",
       "    <tr>\n",
       "      <th>22047</th>\n",
       "      <td>c1f7889a-9ea9-4acb-b64c-b737c929599a</td>\n",
       "      <td>./data/source/rsna-pneumonia-detection-challen...</td>\n",
       "      <td>pneumonia</td>\n",
       "      <td>4</td>\n",
       "      <td>NaN</td>\n",
       "    </tr>\n",
       "    <tr>\n",
       "      <th>22048</th>\n",
       "      <td>c1f7889a-9ea9-4acb-b64c-b737c929599a</td>\n",
       "      <td>./data/source/rsna-pneumonia-detection-challen...</td>\n",
       "      <td>pneumonia</td>\n",
       "      <td>4</td>\n",
       "      <td>NaN</td>\n",
       "    </tr>\n",
       "  </tbody>\n",
       "</table>\n",
       "<p>22049 rows × 5 columns</p>\n",
       "</div>"
      ],
      "text/plain": [
       "                                    patient  \\\n",
       "0                                         2   \n",
       "1                                         2   \n",
       "2                                         2   \n",
       "3                                         2   \n",
       "4                                         4   \n",
       "...                                     ...   \n",
       "22044  c1ec14ff-f6d7-4b38-b0cb-fe07041cbdc8   \n",
       "22045  c1edf42b-5958-47ff-a1e7-4f23d99583ba   \n",
       "22046  c1f6b555-2eb1-4231-98f6-50a963976431   \n",
       "22047  c1f7889a-9ea9-4acb-b64c-b737c929599a   \n",
       "22048  c1f7889a-9ea9-4acb-b64c-b737c929599a   \n",
       "\n",
       "                                                     img      label  src  \\\n",
       "0      ./data/source/covid-chestxray-dataset-master/i...      covid    0   \n",
       "1      ./data/source/covid-chestxray-dataset-master/i...      covid    0   \n",
       "2      ./data/source/covid-chestxray-dataset-master/i...      covid    0   \n",
       "3      ./data/source/covid-chestxray-dataset-master/i...      covid    0   \n",
       "4      ./data/source/covid-chestxray-dataset-master/i...      covid    0   \n",
       "...                                                  ...        ...  ...   \n",
       "22044  ./data/source/rsna-pneumonia-detection-challen...  pneumonia    4   \n",
       "22045  ./data/source/rsna-pneumonia-detection-challen...     normal    4   \n",
       "22046  ./data/source/rsna-pneumonia-detection-challen...     normal    4   \n",
       "22047  ./data/source/rsna-pneumonia-detection-challen...  pneumonia    4   \n",
       "22048  ./data/source/rsna-pneumonia-detection-challen...  pneumonia    4   \n",
       "\n",
       "       Unnamed: 0  \n",
       "0             NaN  \n",
       "1             NaN  \n",
       "2             NaN  \n",
       "3             NaN  \n",
       "4             NaN  \n",
       "...           ...  \n",
       "22044         NaN  \n",
       "22045         NaN  \n",
       "22046         NaN  \n",
       "22047         NaN  \n",
       "22048         NaN  \n",
       "\n",
       "[22049 rows x 5 columns]"
      ]
     },
     "execution_count": 4,
     "metadata": {},
     "output_type": "execute_result"
    }
   ],
   "source": [
    "META"
   ]
  },
  {
   "cell_type": "code",
   "execution_count": 16,
   "metadata": {},
   "outputs": [
    {
     "name": "stdout",
     "output_type": "stream",
     "text": [
      "label distribution: \n",
      "Counter({'pneumonia': 11092, 'normal': 10340, 'covid': 617})\n"
     ]
    }
   ],
   "source": [
    "print('label distribution: ', Counter(META.label), sep='\\n')"
   ]
  },
  {
   "cell_type": "markdown",
   "metadata": {},
   "source": [
    "## train / test split"
   ]
  },
  {
   "cell_type": "code",
   "execution_count": 17,
   "metadata": {},
   "outputs": [
    {
     "data": {
      "text/html": [
       "<div>\n",
       "<style scoped>\n",
       "    .dataframe tbody tr th:only-of-type {\n",
       "        vertical-align: middle;\n",
       "    }\n",
       "\n",
       "    .dataframe tbody tr th {\n",
       "        vertical-align: top;\n",
       "    }\n",
       "\n",
       "    .dataframe thead th {\n",
       "        text-align: right;\n",
       "    }\n",
       "</style>\n",
       "<table border=\"1\" class=\"dataframe\">\n",
       "  <thead>\n",
       "    <tr style=\"text-align: right;\">\n",
       "      <th></th>\n",
       "      <th>imgid</th>\n",
       "      <th>patient</th>\n",
       "      <th>img</th>\n",
       "      <th>label</th>\n",
       "      <th>src</th>\n",
       "      <th>train</th>\n",
       "    </tr>\n",
       "  </thead>\n",
       "  <tbody>\n",
       "    <tr>\n",
       "      <th>0</th>\n",
       "      <td>./data/train\\covid\\0.jpeg</td>\n",
       "      <td>2</td>\n",
       "      <td>./data/source/covid-chestxray-dataset-master/i...</td>\n",
       "      <td>0</td>\n",
       "      <td>0</td>\n",
       "      <td>1</td>\n",
       "    </tr>\n",
       "    <tr>\n",
       "      <th>1</th>\n",
       "      <td>./data/test\\covid\\1.jpeg</td>\n",
       "      <td>2</td>\n",
       "      <td>./data/source/covid-chestxray-dataset-master/i...</td>\n",
       "      <td>0</td>\n",
       "      <td>0</td>\n",
       "      <td>0</td>\n",
       "    </tr>\n",
       "    <tr>\n",
       "      <th>2</th>\n",
       "      <td>./data/train\\covid\\2.jpeg</td>\n",
       "      <td>2</td>\n",
       "      <td>./data/source/covid-chestxray-dataset-master/i...</td>\n",
       "      <td>0</td>\n",
       "      <td>0</td>\n",
       "      <td>1</td>\n",
       "    </tr>\n",
       "    <tr>\n",
       "      <th>3</th>\n",
       "      <td>./data/train\\covid\\3.jpeg</td>\n",
       "      <td>2</td>\n",
       "      <td>./data/source/covid-chestxray-dataset-master/i...</td>\n",
       "      <td>0</td>\n",
       "      <td>0</td>\n",
       "      <td>1</td>\n",
       "    </tr>\n",
       "    <tr>\n",
       "      <th>4</th>\n",
       "      <td>./data/test\\covid\\4.jpeg</td>\n",
       "      <td>4</td>\n",
       "      <td>./data/source/covid-chestxray-dataset-master/i...</td>\n",
       "      <td>0</td>\n",
       "      <td>0</td>\n",
       "      <td>0</td>\n",
       "    </tr>\n",
       "  </tbody>\n",
       "</table>\n",
       "</div>"
      ],
      "text/plain": [
       "                       imgid patient  \\\n",
       "0  ./data/train\\covid\\0.jpeg       2   \n",
       "1   ./data/test\\covid\\1.jpeg       2   \n",
       "2  ./data/train\\covid\\2.jpeg       2   \n",
       "3  ./data/train\\covid\\3.jpeg       2   \n",
       "4   ./data/test\\covid\\4.jpeg       4   \n",
       "\n",
       "                                                 img  label  src  train  \n",
       "0  ./data/source/covid-chestxray-dataset-master/i...      0    0      1  \n",
       "1  ./data/source/covid-chestxray-dataset-master/i...      0    0      0  \n",
       "2  ./data/source/covid-chestxray-dataset-master/i...      0    0      1  \n",
       "3  ./data/source/covid-chestxray-dataset-master/i...      0    0      1  \n",
       "4  ./data/source/covid-chestxray-dataset-master/i...      0    0      0  "
      ]
     },
     "execution_count": 17,
     "metadata": {},
     "output_type": "execute_result"
    }
   ],
   "source": [
    "META = dataset_split(META)\n",
    "META.head()"
   ]
  },
  {
   "cell_type": "code",
   "execution_count": 18,
   "metadata": {},
   "outputs": [
    {
     "name": "stdout",
     "output_type": "stream",
     "text": [
      "label integer map: \n",
      "{'covid': 0, 'normal': 1, 'pneumonia': 2}\n",
      "\n",
      "test data from covid datasets: \n",
      "Counter({2: 2773, 1: 2585, 0: 155})\n",
      "\n",
      "train data from covid datasets: \n",
      "Counter({2: 8319, 1: 7755, 0: 462})\n",
      "\n"
     ]
    }
   ],
   "source": [
    "print('label integer map: ', params['train']['labelmap'], sep='\\n', end='\\n\\n')\n",
    "for ds in (0, 1):\n",
    "    print('{0} data from covid datasets: '.format({0: 'test', 1: 'train'}[ds]), Counter(META[META.train==ds].label), sep='\\n', end='\\n\\n')"
   ]
  },
  {
   "cell_type": "code",
   "execution_count": 19,
   "metadata": {},
   "outputs": [
    {
     "name": "stdout",
     "output_type": "stream",
     "text": [
      "META data saved at ./data/meta\n"
     ]
    }
   ],
   "source": [
    "# cache image meta\n",
    "if not os.path.isdir(SAVE_PATH):\n",
    "    os.makedirs(SAVE_PATH)\n",
    "with open(os.path.join(SAVE_PATH, 'meta'), 'wb') as pickle_file:\n",
    "    pickle.dump(META, pickle_file, pickle.HIGHEST_PROTOCOL)\n",
    "    print(f\"META data saved at {os.path.join(SAVE_PATH, 'meta')}\")"
   ]
  },
  {
   "cell_type": "code",
   "execution_count": 20,
   "metadata": {},
   "outputs": [
    {
     "name": "stdout",
     "output_type": "stream",
     "text": [
      "Wall time: 10min 21s\n"
     ]
    }
   ],
   "source": [
    "%%time\n",
    "if False:\n",
    "    # -------------------------------------------------------------------------------------------------------------------\n",
    "    # imagge file to matrix  \n",
    "    # NOTE: this needs model to load all data at once into cache which take up too much storage, \n",
    "    #       making computing inefficient, NOT GOOD\n",
    "    # -------------------------------------------------------------------------------------------------------------------\n",
    "    # train_data / test_data structure: \n",
    "    #                        {'covid': {'data': list of size*size*3 numpy array, 'label': corresponding list of integer},\n",
    "    #                        '!covid': {'data': list of size*size*3 numpy array, 'label': corresponding list of integer}}\n",
    "    TRAIN_DATA, TEST_DATA = datafromfile(META)\n",
    "    # a sanity check\n",
    "    print(f\"train covid sample #: {len(TRAIN_DATA['covid']['label'])}\")\n",
    "    print(f\"train !covid sample #: {len(TRAIN_DATA['!covid']['label'])}\")\n",
    "    print(f\"test  covid sample #: {len(TEST_DATA['covid']['label'])}\")\n",
    "    print(f\"test  !covid sample #: {len(TEST_DATA['!covid']['label'])}\")\n",
    "    # cache image data\n",
    "    with open(os.path.join(SAVE_PATH, 'train.data'), 'wb') as pickle_file:\n",
    "        pickle.dump(TRAIN_DATA, pickle_file, pickle.HIGHEST_PROTOCOL)\n",
    "        print(f\"Image data saved at {os.path.join(SAVE_PATH, 'train.data')}\")\n",
    "    with open(os.path.join(SAVE_PATH, 'test.data'), 'wb') as pickle_file:\n",
    "        pickle.dump(TEST_DATA, pickle_file, pickle.HIGHEST_PROTOCOL)\n",
    "        print(f\"Image data saved at {os.path.join(SAVE_PATH, 'test.data')}\")\n",
    "else:\n",
    "    # merge imgaes together instead, and transform image to batches of matrix during training\n",
    "    mergesoure(META)"
   ]
  },
  {
   "cell_type": "code",
   "execution_count": 21,
   "metadata": {},
   "outputs": [
    {
     "name": "stdout",
     "output_type": "stream",
     "text": [
      "6642 (224, 224, 3)\n",
      "3297 (224, 224, 3)\n",
      "10115 (224, 224, 3)\n",
      "14285 (224, 224, 3)\n",
      "1258 (224, 224, 3)\n",
      "21797 (224, 224, 3)\n",
      "13709 (224, 224, 3)\n",
      "21755 (224, 224, 3)\n",
      "8634 (224, 224, 3)\n",
      "4543 (224, 224, 3)\n"
     ]
    }
   ],
   "source": [
    "# sanity check for image shape, they need to consistent with model input\n",
    "import cv2\n",
    "import glob\n",
    "import numpy as np\n",
    "for i in np.random.choice(META.index, 10):\n",
    "    print(i, cv2.imread(META.loc[i, 'imgid']).shape)"
   ]
  },
  {
   "cell_type": "code",
   "execution_count": null,
   "metadata": {},
   "outputs": [],
   "source": []
  }
 ],
 "metadata": {
  "kernelspec": {
   "display_name": "Python 3",
   "language": "python",
   "name": "python3"
  },
  "language_info": {
   "codemirror_mode": {
    "name": "ipython",
    "version": 3
   },
   "file_extension": ".py",
   "mimetype": "text/x-python",
   "name": "python",
   "nbconvert_exporter": "python",
   "pygments_lexer": "ipython3",
   "version": "3.6.12"
  }
 },
 "nbformat": 4,
 "nbformat_minor": 2
}
